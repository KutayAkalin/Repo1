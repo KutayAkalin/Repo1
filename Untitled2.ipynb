{
 "cells": [
  {
   "cell_type": "code",
   "execution_count": 2,
   "metadata": {
    "kernel": "R"
   },
   "outputs": [],
   "source": [
    "df<-readRDS(\"D:/R/Project/turkeytop200joined.rds\")"
   ]
  },
  {
   "cell_type": "code",
   "execution_count": 11,
   "metadata": {
    "kernel": "R"
   },
   "outputs": [
    {
     "ename": "ERROR",
     "evalue": "Error in contrib.url(repos, \"source\"): trying to use CRAN without setting a mirror\n",
     "execution_count": 8,
     "output_type": "error",
     "traceback": [
      "Error in contrib.url(repos, \"source\"): trying to use CRAN without setting a mirror\nTraceback:\n",
      "1. install.packages(\"tidyverse\")",
      "2. contrib.url(repos, \"source\")",
      "3. stop(\"trying to use CRAN without setting a mirror\")"
     ]
    }
   ],
   "source": [
    "install.packages(\"tidyverse\")\n",
    "library(tidyverse)\n",
    "\n",
    "df %>% filter(valence>0.5)"
   ]
  },
  {
   "cell_type": "code",
   "execution_count": 1,
   "metadata": {
    "kernel": "R"
   },
   "outputs": [
    {
     "ename": "ERROR",
     "evalue": "Error in contrib.url(repos, \"source\"): trying to use CRAN without setting a mirror\n",
     "execution_count": 1,
     "output_type": "error",
     "traceback": [
      "Error in contrib.url(repos, \"source\"): trying to use CRAN without setting a mirror\nTraceback:\n",
      "1. install.packages(\"devtools\")",
      "2. contrib.url(repos, \"source\")",
      "3. stop(\"trying to use CRAN without setting a mirror\")"
     ]
    }
   ],
   "source": [
    "install.packages('devtools')\n",
    "devtools::install_github('IRkernel/IRkernel')\n",
    "IRkernel::installspec()\n",
    "install.packages('feather')"
   ]
  },
  {
   "cell_type": "code",
   "execution_count": 7,
   "metadata": {
    "kernel": "Python3"
   },
   "outputs": [
    {
     "ename": "NameError",
     "evalue": "name 'df' is not defined",
     "output_type": "error",
     "traceback": [
      "\u001b[1;31m---------------------------------------------------------------------------\u001b[0m",
      "\u001b[1;31mNameError\u001b[0m                                 Traceback (most recent call last)",
      "\u001b[1;32m<ipython-input-3-00cf07b74dcd>\u001b[0m in \u001b[0;36m<module>\u001b[1;34m\u001b[0m\n\u001b[1;32m----> 1\u001b[1;33m \u001b[0mdf\u001b[0m\u001b[1;33m\u001b[0m\u001b[1;33m\u001b[0m\u001b[0m\n\u001b[0m",
      "\u001b[1;31mNameError\u001b[0m: name 'df' is not defined"
     ]
    }
   ],
   "source": [
    "df"
   ]
  },
  {
   "cell_type": "code",
   "execution_count": 8,
   "metadata": {
    "kernel": "Python3"
   },
   "outputs": [
    {
     "data": {
      "text/plain": [
       "list"
      ]
     },
     "execution_count": 8,
     "metadata": {},
     "output_type": "execute_result"
    }
   ],
   "source": [
    "a=[3,5]\n",
    "a\n",
    "type(a)"
   ]
  }
 ],
 "metadata": {
  "kernelspec": {
   "display_name": "SoS",
   "language": "sos",
   "name": "sos"
  },
  "language_info": {
   "codemirror_mode": "sos",
   "file_extension": ".sos",
   "mimetype": "text/x-sos",
   "name": "sos",
   "nbconvert_exporter": "sos_notebook.converter.SoS_Exporter",
   "pygments_lexer": "sos"
  },
  "sos": {
   "kernels": [
    [
     "Python3",
     "python3",
     "Python3",
     "#FFD91A",
     ""
    ],
    [
     "R",
     "ir",
     "R",
     "#DCDCDA",
     "r"
    ]
   ],
   "version": "0.21.0"
  }
 },
 "nbformat": 4,
 "nbformat_minor": 4
}
